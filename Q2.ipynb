{
 "cells": [
  {
   "cell_type": "markdown",
   "id": "bbe68f5f-73c7-44a4-9445-d2a040b8a10d",
   "metadata": {},
   "source": [
    "# ** Q2"
   ]
  },
  {
   "cell_type": "code",
   "execution_count": null,
   "id": "5b84a6fd-6a88-4e16-8809-27714a2c096e",
   "metadata": {},
   "outputs": [],
   "source": [
    "#Q2 code\n",
    "# !pip install python-constraint\n",
    "import constraint"
   ]
  },
  {
   "cell_type": "code",
   "execution_count": null,
   "id": "623632e6-ea26-4a67-b709-c08c07834487",
   "metadata": {},
   "outputs": [],
   "source": [
    "def print_solutions(sols):  \n",
    "    for s in sols:\n",
    "        print(\"---\")\n",
    "        print(\"\"\"\n",
    "        CR-1: {0:d}\n",
    "        CR-2: {1:d}\n",
    "        CR-3: {2:d}\n",
    "        CR-4: {3:d}\n",
    "        CR-5: {4:d}\"\"\".format(s[\"CR-1\"], s[\"CR-2\"], s[\"CR-3\"], s[\"CR-4\"], s[\"CR-5\"]))"
   ]
  },
  {
   "cell_type": "markdown",
   "id": "fd39b06c-5b68-4338-9bd1-2419cfa754ca",
   "metadata": {},
   "source": [
    "##### State 1"
   ]
  },
  {
   "cell_type": "code",
   "execution_count": null,
   "id": "d1189f11-3f4d-45bf-8741-1bb115b8b70a",
   "metadata": {},
   "outputs": [],
   "source": [
    "problem = constraint.Problem()\n",
    "\n",
    "problem.addVariable('CR-1', range(21))  \n",
    "problem.addVariable('CR-2', range(16))\n",
    "problem.addVariable('CR-3', range(11))\n",
    "problem.addVariable('CR-4', range(22))\n",
    "problem.addVariable('CR-5', range(6))\n",
    "\n",
    "problem.addVariable('Vac-A',range(61,100))\n",
    "problem.addVariable('Vac-B',range(36,60))\n",
    "problem.addVariable('Vac-C',range(0,35))\n",
    "\n",
    "problem.addVariable('ST-1',[115900,434890,15000])\n",
    "problem.addVariable('ST-2',[100450,378860,35234])\n",
    "problem.addVariable('ST-3',[223400,643320,22318])\n",
    "problem.addVariable('ST-4',[269300,859900,23893])\n",
    "problem.addVariable('ST-5',[221100,450500,19284])\n",
    "\n",
    "problem.addVariable('Age 30',115900)\n",
    "problem.addVariable('Between',434890)\n",
    "problem.addVariable('Below',15000)\n",
    "\n",
    "def custom_constraint(c1, c2, c3, c4, c5):\n",
    "    if c1*200 + c2*500 + c3*1000 + c4*2500 + c5*4000 <= 5000:\n",
    "        return True\n",
    "problem.addConstraint(custom_constraint, ['CR-1', 'CR-2', 'CR-3', 'CR-4', 'CR-5'])\n",
    "    \n",
    "    \n",
    "def total_Patient(a1,a2,a3):\n",
    "    if(a1 > 5000 && a2 > 5000 && a3 > 5000):\n",
    "        temp1 = range(5000)\n",
    "        temp2 = range(5000)\n",
    "        temp3 = range(5000)\n",
    "        if((temp1 + temp2 + temp3)<= 5000):\n",
    "            a1 = a1 - 5000\n",
    "            a2 = a2 - 5000\n",
    "            a3 = a3 - 5000\n",
    "            return True\n",
    "    elif (a1 > 5000 && a2 > 5000 && a3 ==0):\n",
    "        temp1 = range(5000)\n",
    "        temp2 = range(5000)\n",
    "        if((temp1 + temp2 + 0) <= 5000):\n",
    "            a1 = a1 -5000\n",
    "            a2 = a2 - 5000\n",
    "            \n",
    "    \n",
    "problem.addConstraint(total_Patient,['Age 30','Between','Below'])\n",
    "\n",
    "solutions = problem.getSolutions() \n",
    "solution_found = {}\n",
    "                      \n",
    "for s in solutions:\n",
    "    print(\"\"\"\\n Number of patients:\n",
    "      Age > 30 : {}\n",
    "      Between : {}\n",
    "      Below : {}\"\"\".format(s['Age 30'],s['Between'],s['Below']))\n",
    "                      \n",
    "# print_solutions(solutions)\n",
    "#print(\"\\nTotal number of ways: {}\".format(len(solutions)))  # no. of vaccine centres in State 1"
   ]
  },
  {
   "cell_type": "markdown",
   "id": "1021cd32-bf68-4087-9400-d3b639d409ea",
   "metadata": {},
   "source": [
    "##### State 2"
   ]
  },
  {
   "cell_type": "code",
   "execution_count": null,
   "id": "e0b198fc-f12a-4416-b62d-a13ea2ab3914",
   "metadata": {},
   "outputs": [],
   "source": [
    "problem = constraint.Problem()\n",
    "\n",
    "problem.addVariable('CR-1', range(31))  \n",
    "problem.addVariable('CR-2', range(17))\n",
    "problem.addVariable('CR-3', range(16))\n",
    "problem.addVariable('CR-4', range(11))\n",
    "problem.addVariable('CR-5', range(3))\n",
    "\n",
    "def custom_constraint(c1, c2, c3, c4, c5):\n",
    "    if c1*200 + c2*500 + c3*1000 + c4*2500 + c5*4000 <= 10000:\n",
    "        return True\n",
    "    problem.addConstraint(custom_constraint, ['CR-1', 'CR-2', 'CR-3', 'CR-4', 'CR-5'])\n",
    "\n",
    "solutions = problem.getSolutions()  \n",
    "# print_solutions(solutions)\n",
    "print(\"\\nTotal number of ways: {}\".format(len(solutions))) "
   ]
  },
  {
   "cell_type": "markdown",
   "id": "27bb8f05-98e3-4737-892c-ef45608453d1",
   "metadata": {},
   "source": [
    "##### State 3"
   ]
  },
  {
   "cell_type": "code",
   "execution_count": null,
   "id": "9e6356ca-141d-41da-b140-d70808c150c9",
   "metadata": {},
   "outputs": [],
   "source": [
    "problem = constraint.Problem()\n",
    "\n",
    "problem.addVariable('CR-1', range(23))  \n",
    "problem.addVariable('CR-2', range(16))\n",
    "problem.addVariable('CR-3', range(12))\n",
    "problem.addVariable('CR-4', range(13))\n",
    "problem.addVariable('CR-5', range(4))\n",
    "\n",
    "def custom_constraint(c1, c2, c3, c4, c5):\n",
    "    if c1*200 + c2*500 + c3*1000 + c4*2500 + c5*4000 <= 7500:\n",
    "        return True\n",
    "    problem.addConstraint(custom_constraint, ['CR-1', 'CR-2', 'CR-3', 'CR-4', 'CR-5'])\n",
    "\n",
    "solutions = problem.getSolutions()  \n",
    "# print_solutions(solutions)\n",
    "print(\"\\nTotal number of ways: {}\".format(len(solutions))) "
   ]
  },
  {
   "cell_type": "markdown",
   "id": "400a2f74-b1aa-4f76-b0b0-6bcea116f072",
   "metadata": {},
   "source": [
    "##### State 4"
   ]
  },
  {
   "cell_type": "code",
   "execution_count": null,
   "id": "ee522451-43a9-4579-9513-8828293e1307",
   "metadata": {},
   "outputs": [],
   "source": [
    "problem = constraint.Problem()\n",
    "\n",
    "problem.addVariable('CR-1', range(17))  \n",
    "problem.addVariable('CR-2', range(17))\n",
    "problem.addVariable('CR-3', range(17))\n",
    "problem.addVariable('CR-4', range(16))\n",
    "problem.addVariable('CR-5', range(2))\n",
    "\n",
    "def custom_constraint(c1, c2, c3, c4, c5):\n",
    "    if c1*200 + c2*500 + c3*1000 + c4*2500 + c5*4000 <= 8500:\n",
    "        return True\n",
    "    problem.addConstraint(custom_constraint, ['CR-1', 'CR-2', 'CR-3', 'CR-4', 'CR-5'])\n",
    "\n",
    "solutions = problem.getSolutions()  \n",
    "# print_solutions(solutions)\n",
    "print(\"\\nTotal number of ways: {}\".format(len(solutions))) "
   ]
  },
  {
   "cell_type": "markdown",
   "id": "574b8512-4cbf-4a31-9ca6-7e8ff0d079a0",
   "metadata": {},
   "source": [
    "##### State 5"
   ]
  },
  {
   "cell_type": "code",
   "execution_count": null,
   "id": "f67c5916-8a7b-4211-9941-d56a4be22bea",
   "metadata": {},
   "outputs": [],
   "source": [
    "problem = constraint.Problem()\n",
    "\n",
    "problem.addVariable('CR-1', range(20))  \n",
    "problem.addVariable('CR-2', range(11))\n",
    "problem.addVariable('CR-3', range(21))\n",
    "problem.addVariable('CR-4', range(16))\n",
    "problem.addVariable('CR-5', range(2))\n",
    "\n",
    "def custom_constraint(c1, c2, c3, c4, c5):\n",
    "    if c1*200 + c2*500 + c3*1000 + c4*2500 + c5*4000 <= 9500:\n",
    "        return True\n",
    "    problem.addConstraint(custom_constraint, ['CR-1', 'CR-2', 'CR-3', 'CR-4', 'CR-5'])\n",
    "\n",
    "solutions = problem.getSolutions()  \n",
    "# print_solutions(solutions)\n",
    "print(\"\\nTotal number of ways: {}\".format(len(solutions))) "
   ]
  },
  {
   "cell_type": "code",
   "execution_count": null,
   "id": "1e1acfd4-dcb8-4c18-a1b8-378c917f2978",
   "metadata": {},
   "outputs": [],
   "source": []
  }
 ],
 "metadata": {
  "kernelspec": {
   "display_name": "Python 3 (ipykernel)",
   "language": "python",
   "name": "python3"
  },
  "language_info": {
   "codemirror_mode": {
    "name": "ipython",
    "version": 3
   },
   "file_extension": ".py",
   "mimetype": "text/x-python",
   "name": "python",
   "nbconvert_exporter": "python",
   "pygments_lexer": "ipython3",
   "version": "3.9.7"
  }
 },
 "nbformat": 4,
 "nbformat_minor": 5
}
