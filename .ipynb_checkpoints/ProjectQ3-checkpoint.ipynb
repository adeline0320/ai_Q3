{
 "cells": [
  {
   "cell_type": "markdown",
   "id": "1a17abce-1bb9-4c02-8ccf-fede497663aa",
   "metadata": {},
   "source": [
    "# Project Q3"
   ]
  },
  {
   "cell_type": "markdown",
   "id": "5797388a-f83e-492e-bbe2-1ef978dd68b4",
   "metadata": {},
   "source": [
    "Load tenure year - amount of time to repay the loan<br>\n",
    "Number of dependent - number of people who are in your immediate family<br>\n",
    "joint application - credit profiles of both you and the co-applicant are taken into account and both applicants are resposible for replaying the loan<br>\n",
    "score - the higher the score, the better a borrower looks to potential lenders<br>"
   ]
  },
  {
   "cell_type": "code",
   "execution_count": 1,
   "id": "d7786494-337d-4218-8070-0dab6fde9ed5",
   "metadata": {},
   "outputs": [],
   "source": [
    "%matplotlib inline\n",
    "import pandas as pd\n",
    "import matplotlib.pyplot as plt\n",
    "import seaborn as sns\n",
    "import numpy as np\n",
    "from sklearn.cluster import KMeans\n",
    "from sklearn.model_selection import train_test_split\n",
    "# from sklearn.model_selection import cross_val_score, cross_val_predict\n",
    "from sklearn.metrics import accuracy_score, confusion_matrix,precision_score,recall_score,f1_score\n",
    "from sklearn.metrics import roc_auc_score\n",
    "from sklearn import svm, tree\n",
    "from sklearn import metrics\n"
   ]
  },
  {
   "cell_type": "code",
   "execution_count": 3,
   "id": "86e74952-4433-4347-879b-38bbc869a73c",
   "metadata": {},
   "outputs": [],
   "source": [
    "#read csv\n",
    "file = pd.read_csv(\"Bank_CreditScoring.csv\")"
   ]
  },
  {
   "cell_type": "code",
   "execution_count": null,
   "id": "ab68a20a-f05d-4c8b-b037-afb7e0b68a74",
   "metadata": {},
   "outputs": [],
   "source": [
    "mean_loan = file[\"Loan_Amount\"].mean()\n",
    "mean_loan"
   ]
  },
  {
   "cell_type": "markdown",
   "id": "6dcca71f-29ff-456e-b81d-e6c141d35ed9",
   "metadata": {},
   "source": [
    "The mean of loan amount of all loaners is 448350"
   ]
  },
  {
   "cell_type": "code",
   "execution_count": null,
   "id": "75591762-8ba1-4aef-a7e9-b728d6564db3",
   "metadata": {},
   "outputs": [],
   "source": [
    "side_income = file[\"Number_of_Side_Income\"].max()\n",
    "side_income\n"
   ]
  },
  {
   "cell_type": "markdown",
   "id": "6b2edaa1-1dab-45ee-9a4c-ad538ef859c4",
   "metadata": {},
   "source": [
    "The maximum number of side income in the given dataset is 3"
   ]
  },
  {
   "cell_type": "code",
   "execution_count": null,
   "id": "6e8dd977-a6c4-439d-ac35-4f58d6ef934c",
   "metadata": {},
   "outputs": [],
   "source": [
    "median_score = file[\"Score\"].median()\n",
    "median_score"
   ]
  },
  {
   "cell_type": "markdown",
   "id": "fe40f509-3101-4e14-a323-537bc283c045",
   "metadata": {},
   "source": [
    "Median of the score is 8"
   ]
  },
  {
   "cell_type": "code",
   "execution_count": null,
   "id": "44934590-d61e-4c64-8c0f-5240b48d3955",
   "metadata": {},
   "outputs": [],
   "source": [
    "file[\"Decision\"].value_counts().sort_index().plot(figsize = (10,4),kind = \"bar\",rot = 0)\n",
    "plt.xlabel(\"Decision\")\n",
    "plt.ylabel(\"Frequency\")\n"
   ]
  },
  {
   "cell_type": "markdown",
   "id": "8c38d524-48a8-4d70-aa0b-c52761ee6466",
   "metadata": {},
   "source": [
    "The bar chart shows that the frequency of the accept is more than reject. Hence, this dataset is imbalanced."
   ]
  },
  {
   "cell_type": "code",
   "execution_count": null,
   "id": "f37b2905-bd44-4680-8805-0c76028500e1",
   "metadata": {},
   "outputs": [],
   "source": [
    "file[\"Employment_Type\"].value_counts().sort_index().plot(figsize = (10,4),kind = \"bar\",rot = 0)\n",
    "plt.xlabel(\"Type of employment\")\n",
    "plt.ylabel(\"Frequency\")\n",
    "plt.title(\"Frequency of type of employment\")\n"
   ]
  },
  {
   "cell_type": "markdown",
   "id": "268d3496-6698-4e76-8e65-0b0f138ab279",
   "metadata": {},
   "source": [
    "There are 5 type of employments in the dataset, which is fresh graduate, self employed,employee,employer and government.<br>\n",
    "As we can see from the graph, the number of self employed and employee have the highest amount."
   ]
  },
  {
   "cell_type": "code",
   "execution_count": null,
   "id": "df449e98-eec1-44a9-96e5-ac676cebd46f",
   "metadata": {},
   "outputs": [],
   "source": [
    "sns.heatmap(file.corr(),cmap=\"cividis\")"
   ]
  },
  {
   "cell_type": "markdown",
   "id": "5e3e9e23-17a2-4587-a504-10a4e283db90",
   "metadata": {},
   "source": [
    "As we can see from the heatmap, there is a strong correlation of credit card more than months and number of dependents"
   ]
  },
  {
   "cell_type": "markdown",
   "id": "9cdfe5a1-ae0b-4214-a9db-af9f04875f98",
   "metadata": {},
   "source": [
    "# **Clustering**"
   ]
  },
  {
   "cell_type": "code",
   "execution_count": 4,
   "id": "b000ecf3-1732-451d-98f4-5a4787963f91",
   "metadata": {},
   "outputs": [],
   "source": [
    "from sklearn.cluster import KMeans \n",
    "\n",
    "X = file.drop('Score',axis = 1)\n",
    "y = file['Score']#Classification need to be classes\n",
    "\n",
    "X = pd.get_dummies(X,drop_first = True)\n"
   ]
  },
  {
   "cell_type": "code",
   "execution_count": null,
   "id": "3010589e-a4e7-43e8-84e3-4ffb52247cac",
   "metadata": {},
   "outputs": [],
   "source": [
    "k_mean_selection = [2,3,5]\n",
    "for i in range(3):\n",
    "    newData = pd.read_csv(\"Bank_CreditScoring.csv\")\n",
    "    KM = KMeans(n_clusters = k_mean_selection[i],random_state = 12)\n",
    "    KM.fit(X)\n",
    "    label = KM.predict(X)\n",
    "\n",
    "    newData['Label']=label\n",
    "    newData.to_csv('K_mean_' + str(k_mean_selection[i]) + '.csv',index= False)\n"
   ]
  },
  {
   "cell_type": "markdown",
   "id": "ffff9735-cd0a-47e4-9dcd-d315434f9ec8",
   "metadata": {},
   "source": [
    "# **Classification 1**\n"
   ]
  },
  {
   "cell_type": "code",
   "execution_count": 5,
   "id": "8b1c5c16-d35c-4feb-b02a-a71f72c39d71",
   "metadata": {},
   "outputs": [],
   "source": [
    "X = file.drop('Decision',axis = 1)\n",
    "y = file['Decision']\n",
    "X = pd.get_dummies(X, drop_first=True) "
   ]
  },
  {
   "cell_type": "code",
   "execution_count": 6,
   "id": "cb63c6ed-3f26-437c-bab3-0c79f3ff2ac2",
   "metadata": {},
   "outputs": [],
   "source": [
    "X_train,X_test,y_train,y_test = train_test_split(X,y,test_size = 0.3,random_state = 42)"
   ]
  },
  {
   "cell_type": "code",
   "execution_count": 9,
   "id": "d01dc617-d70b-4dcb-b8c6-2cfde692deea",
   "metadata": {},
   "outputs": [
    {
     "name": "stdout",
     "output_type": "stream",
     "text": [
      "Recall: 0.9851851851851852\n",
      "Accuracy score: 0.7588652482269503\n",
      "F1 score: 0.8622366288492707\n",
      "roc_auc_score 0.5243434343434343\n"
     ]
    }
   ],
   "source": [
    "from sklearn.ensemble import RandomForestClassifier\n",
    "from sklearn import metrics\n",
    "clf=RandomForestClassifier()\n",
    "#n_estimators=800, criterion='gini', max_depth=None,min_samples_split=2, min_samples_leaf=1, min_weight_fraction_leaf=0.0, max_features='auto', max_leaf_nodes=None,bootstrap=True, oob_score=False, n_jobs=1, random_state=None, verbose=0, warm_start=False,class_weight=None\n",
    "clf.fit(X_train,y_train)\n",
    "y_pred=clf.predict(X_test)\n",
    "prob_y_2 = clf.predict_proba(X_test)\n",
    "prob_y_2 = [p[1] for p in prob_y_2]\n",
    "print('Recall:',recall_score(y_test, y_pred,pos_label = \"Accept\"))\n",
    "print('Accuracy score:',accuracy_score(y_test, y_pred))\n",
    "print('F1 score:',f1_score(y_test, y_pred,pos_label = \"Accept\"))\n",
    "print('roc_auc_score',roc_auc_score(y_test,prob_y_2 ) )"
   ]
  },
  {
   "cell_type": "code",
   "execution_count": 11,
   "id": "2f541709-fbaa-40e1-b296-9148839c5f6b",
   "metadata": {},
   "outputs": [
    {
     "name": "stdout",
     "output_type": "stream",
     "text": [
      "Recall: 1.0\n",
      "Accuracy score: 0.7659574468085106\n",
      "F1 score: 0.8674698795180723\n",
      "roc_auc_score 0.5196296296296297\n"
     ]
    }
   ],
   "source": [
    "from sklearn.naive_bayes import GaussianNB\n",
    "nb = GaussianNB()\n",
    "nb.fit(X_train,y_train)\n",
    "y_predGB = nb.predict(X_test)\n",
    "prob_y_3 = nb.predict_proba(X_test)\n",
    "prob_y_3 = [p[1] for p in prob_y_3]\n",
    "#rint('ROCAUC score:',roc_auc_score(y_test, y_pred))\n",
    "print('Recall:',recall_score(y_test, y_predGB,pos_label = \"Accept\"))\n",
    "print('Accuracy score:',accuracy_score(y_test, y_predGB))\n",
    "print('F1 score:',f1_score(y_test, y_predGB,pos_label = \"Accept\"))\n",
    "print('roc_auc_score',roc_auc_score(y_test,prob_y_3) )"
   ]
  },
  {
   "cell_type": "code",
   "execution_count": null,
   "id": "28c14b04-af98-4d5b-873e-5d8c3241c9f2",
   "metadata": {},
   "outputs": [],
   "source": [
    "# svm = svm.SVC(kernel = 'linear',class_weight='balanced', probability=True)\n",
    "# svm = svm.fit(X_train,y_train)\n",
    "# y_predSVM = svm.predict(X_test)\n",
    "# # acc = accuracy_score(y_test, y_predSVM)\n",
    "# # print(\"Accuracy of %s is %s\"%(\"SVM\", acc))\n",
    "# # cm = confusion_matrix(y_test, y_predSVM)\n",
    "# # print(\"Confusion Matrix of %s is %s\"%(\"SVM\", cm))\n",
    "# prob_y_2 = svm.predict_proba(X_test)\n",
    "# prob_y_2 = [p[1] for p in prob_y_2]\n",
    "# #rint('ROCAUC score:',roc_auc_score(y_test, y_pred))\n",
    "# print('Accuracy score:',accuracy_score(y_test, y_predSVM))\n",
    "# print('F1 score:',f1_score(y_test, y_predSVM,pos_label = \"Accept\"))\n",
    "# #print('roc_auc_score',roc_auc_score(y_test,prob_y_2 ) )\n",
    "# #sns.heatmap(cm,annot = True)"
   ]
  },
  {
   "cell_type": "markdown",
   "id": "fcc2dd39-ebf1-4cdc-8265-5ebab4bbc561",
   "metadata": {},
   "source": [
    "Accuracy of Support Vector Machine and Naive Bayers are the same.However, the accuracy of decision tree is lower."
   ]
  },
  {
   "cell_type": "markdown",
   "id": "f86cc204-1a56-44fe-abb5-ce9bf004336e",
   "metadata": {},
   "source": [
    "# **Classification 2**\n"
   ]
  },
  {
   "cell_type": "code",
   "execution_count": 20,
   "id": "3214eaff-43a9-4586-b252-f4c6e46c4ba4",
   "metadata": {},
   "outputs": [
    {
     "name": "stdout",
     "output_type": "stream",
     "text": [
      "object\n"
     ]
    }
   ],
   "source": [
    "X = file.drop('Score',axis = 1)\n",
    "y = file['Score'].astype(str)\n",
    "X = pd.get_dummies(X, drop_first=True) \n",
    "print(y.dtypes)\n",
    "X_train,X_test,y_train,y_test = train_test_split(X,y,test_size = 0.3,random_state = 42)"
   ]
  },
  {
   "cell_type": "code",
   "execution_count": 22,
   "id": "f4db0714-dd3d-440f-a173-a543260f22b6",
   "metadata": {},
   "outputs": [
    {
     "data": {
      "text/plain": [
       "0.23546099290780143"
      ]
     },
     "execution_count": 22,
     "metadata": {},
     "output_type": "execute_result"
    }
   ],
   "source": [
    "from sklearn.ensemble import RandomForestClassifier\n",
    "from sklearn import metrics\n",
    "clf=RandomForestClassifier()\n",
    "#n_estimators=800, criterion='gini', max_depth=None,min_samples_split=2, min_samples_leaf=1, min_weight_fraction_leaf=0.0, max_features='auto', max_leaf_nodes=None,bootstrap=True, oob_score=False, n_jobs=1, random_state=None, verbose=0, warm_start=False,class_weight=None\n",
    "clf.fit(X_train,y_train)\n",
    "y_pred=clf.predict(X_test)\n",
    "clf.score(X_test, y_test)\n",
    "# prob_y_2 = clf.predict_proba(X_test)\n",
    "# prob_y_2 = [p[1] for p in prob_y_2]\n",
    "#print('Recall:',recall_score(y_test, y_pred))\n",
    "# print('Accuracy score:',accuracy_score(y_test, y_pred))\n",
    "# print('F1 score:',f1_score(y_test, y_pred))\n",
    "# print('roc_auc_score',roc_auc_score(y_test,prob_y_2 ))"
   ]
  },
  {
   "cell_type": "code",
   "execution_count": null,
   "id": "34b0da57-5a2f-493d-919d-de7dcb21ba8d",
   "metadata": {},
   "outputs": [],
   "source": []
  }
 ],
 "metadata": {
  "kernelspec": {
   "display_name": "Python 3 (ipykernel)",
   "language": "python",
   "name": "python3"
  },
  "language_info": {
   "codemirror_mode": {
    "name": "ipython",
    "version": 3
   },
   "file_extension": ".py",
   "mimetype": "text/x-python",
   "name": "python",
   "nbconvert_exporter": "python",
   "pygments_lexer": "ipython3",
   "version": "3.9.7"
  }
 },
 "nbformat": 4,
 "nbformat_minor": 5
}
